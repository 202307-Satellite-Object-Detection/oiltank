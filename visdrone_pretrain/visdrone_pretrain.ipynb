{
 "cells": [
  {
   "cell_type": "code",
   "execution_count": null,
   "metadata": {},
   "outputs": [],
   "source": [
    "from ultralytics import YOLO\n",
    "\n",
    "model = YOLO('yolov8x.pt')\n",
    "\n",
    "result = model.train(\n",
    "                    data='/mnt/sdb2/yunho/CV/yolo_pretrain/Data/VisDrone.yaml', \n",
    "                    epochs=100,\n",
    "                    batch=8,\n",
    "                    imgsz=1024,\n",
    "                    patience=5,\n",
    "                    save=True,\n",
    "                    save_period=10,\n",
    "                    # device=[0,1],\n",
    "                    project=\"visdrone_pretrain\",\n",
    "                    name=\"train\",\n",
    "                    workers=8,\n",
    "                    pretrained=False, #pretrained사용 불가, 직접 학습해야 함.\n",
    "                    resume=False, #계속 학습 여부\n",
    "                    optimizer=\"Adam\",\n",
    "                    lr0=1e-3,\n",
    "                    augment=False, #true하면 오류남.\n",
    "                    val=True,\n",
    "                    cache=True\n",
    "                    )"
   ]
  },
  {
   "cell_type": "code",
   "execution_count": 3,
   "metadata": {},
   "outputs": [],
   "source": [
    "import gc\n",
    "import torch\n",
    "\n",
    "gc.collect()\n",
    "torch.cuda.empty_cache()"
   ]
  },
  {
   "cell_type": "code",
   "execution_count": null,
   "metadata": {},
   "outputs": [],
   "source": []
  }
 ],
 "metadata": {
  "kernelspec": {
   "display_name": "yolo",
   "language": "python",
   "name": "python3"
  },
  "language_info": {
   "codemirror_mode": {
    "name": "ipython",
    "version": 3
   },
   "file_extension": ".py",
   "mimetype": "text/x-python",
   "name": "python",
   "nbconvert_exporter": "python",
   "pygments_lexer": "ipython3",
   "version": "3.9.17"
  },
  "orig_nbformat": 4
 },
 "nbformat": 4,
 "nbformat_minor": 2
}
